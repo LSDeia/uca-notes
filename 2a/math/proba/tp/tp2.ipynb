{
 "cells": [
  {
   "cell_type": "code",
   "execution_count": 189,
   "id": "4b86fabb",
   "metadata": {},
   "outputs": [],
   "source": [
    "from scipy.special import factorial,binom\n",
    "import numpy as np\n",
    "import numpy.random as npr\n",
    "import matplotlib.pyplot as plt\n",
    "import seaborn as sb\n",
    "import math"
   ]
  },
  {
   "cell_type": "markdown",
   "id": "90ecd2ac",
   "metadata": {},
   "source": [
    "# Exo 1\n",
    "### Q1\n",
    "peut tomber sur n ou n+1 a partir de n"
   ]
  },
  {
   "cell_type": "code",
   "execution_count": 184,
   "id": "56095c70",
   "metadata": {},
   "outputs": [],
   "source": [
    "def side(p):\n",
    "    return npr.choice(2, p=[p,1-p])"
   ]
  },
  {
   "cell_type": "code",
   "execution_count": 185,
   "id": "6ec6994c",
   "metadata": {},
   "outputs": [],
   "source": [
    "def simul_planche(e,p): #e=etage, p= proba agauche res={0,n}\n",
    "    pos=0\n",
    "    for i in range(e):\n",
    "        if side(p) == 1:\n",
    "            pos=pos+1\n",
    "    return pos"
   ]
  },
  {
   "cell_type": "code",
   "execution_count": 186,
   "id": "62988bac",
   "metadata": {},
   "outputs": [
    {
     "data": {
      "text/plain": [
       "5"
      ]
     },
     "execution_count": 186,
     "metadata": {},
     "output_type": "execute_result"
    }
   ],
   "source": [
    "simul_planche(12,0.5)"
   ]
  },
  {
   "cell_type": "code",
   "execution_count": 187,
   "id": "f336ea06",
   "metadata": {},
   "outputs": [],
   "source": [
    "def bcp_simul_planche(n,e,p):\n",
    "    res = []\n",
    "    for i in range(n):\n",
    "        res.append(simul_planche(e,p))\n",
    "    return res\n",
    "        "
   ]
  },
  {
   "cell_type": "code",
   "execution_count": 188,
   "id": "ceae3a61",
   "metadata": {},
   "outputs": [
    {
     "data": {
      "text/plain": [
       "<AxesSubplot:ylabel='Probability'>"
      ]
     },
     "execution_count": 188,
     "metadata": {},
     "output_type": "execute_result"
    },
    {
     "data": {
      "image/png": "[encoded data removed]",
      "text/plain": [
       "<Figure size 432x288 with 1 Axes>"
      ]
     },
     "metadata": {
      "needs_background": "light"
     },
     "output_type": "display_data"
    }
   ],
   "source": [
    "res = bcp_simul_planche(10000,12,0.5)\n",
    "res.sort()\n",
    "\n",
    "leg=[0,1,2,3,4,5,6,7,8,9,10,11,12]\n",
    "\n",
    "sb.histplot(res, binwidth=1, stat=\"probability\")"
   ]
  },
  {
   "cell_type": "code",
   "execution_count": null,
   "id": "c54a8574",
   "metadata": {},
   "outputs": [],
   "source": [
    "def binomiale(n,k,p):\n",
    "    for i in range(n+1):\n",
    "        comb(n,i)*(p**i)*((1-p)**(n-i))"
   ]
  },
  {
   "cell_type": "code",
   "execution_count": null,
   "id": "bd176f2b",
   "metadata": {},
   "outputs": [],
   "source": []
  }
 ],
 "metadata": {
  "kernelspec": {
   "display_name": "Python 3 (ipykernel)",
   "language": "python",
   "name": "python3"
  },
  "language_info": {
   "codemirror_mode": {
    "name": "ipython",
    "version": 3
   },
   "file_extension": ".py",
   "mimetype": "text/x-python",
   "name": "python",
   "nbconvert_exporter": "python",
   "pygments_lexer": "ipython3",
   "version": "3.9.2"
  }
 },
 "nbformat": 4,
 "nbformat_minor": 5
}
